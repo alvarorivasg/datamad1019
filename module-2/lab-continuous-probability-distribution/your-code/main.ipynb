{
 "cells": [
  {
   "cell_type": "markdown",
   "metadata": {},
   "source": [
    "# Before your start:\n",
    "\n",
    "    Read the README.md file\n",
    "    Comment as much as you can and use the resources (README.md file)\n",
    "    Happy learning!"
   ]
  },
  {
   "cell_type": "markdown",
   "metadata": {},
   "source": [
    "In this exercise, we  will generate random numbers from the continuous disributions we learned in the lesson. There are two ways to generate random numbers:\n",
    "\n",
    "1. Using the numpy library \n",
    "1. using the Scipy library \n",
    "\n",
    "Use either or both of the lbraries in this exercise."
   ]
  },
  {
   "cell_type": "markdown",
   "metadata": {},
   "source": [
    "## Uniform Distribution\n",
    "\n",
    "To generate uniform random numbers between any two given values using scipy, we can either use the following code or the code that we have\n",
    "discussed in class:"
   ]
  },
  {
   "cell_type": "code",
   "execution_count": 39,
   "metadata": {},
   "outputs": [
    {
     "name": "stdout",
     "output_type": "stream",
     "text": [
      "[2.92239447 2.01797426 2.66079456 2.68261296 2.35175169 2.32530361\n",
      " 2.87748567 2.68752167 2.0297478  2.17179419]\n"
     ]
    }
   ],
   "source": [
    "from scipy.stats import uniform, normaltest\n",
    "x = uniform.rvs(size=10)\n",
    "a = 2\n",
    "b = 3\n",
    "randoms  = a + (b-a)*x\n",
    "print(randoms)"
   ]
  },
  {
   "cell_type": "markdown",
   "metadata": {},
   "source": [
    "**Your task:**\n",
    "\n",
    "1. Based on the code above, write a function that generates uniformly distributed random numbers. There are several requirements for your function:\n",
    "    * It should accept 3 parameters: \n",
    "        * `bottom` - the lower boundary of the generated numbers\n",
    "        * `ceiling` - the upper boundary of the generated numbers\n",
    "        * `count` - how many numbers to generate\n",
    "    * It should return an array of uniformly distributed random numbers\n",
    "\n",
    "1. Call your function with 2 sets of params below:\n",
    "    * bottom=10, ceiling=15, count=100\n",
    "    * bottom=10, ceiling=60, count=1,000\n",
    "\n",
    "1. Plot the uniform distributions generated above using histograms, where x axis is the value and y axis is the count. Let the histogram's number of bins be 10.\n",
    "\n",
    "Your output should look like below:\n",
    "\n",
    "![uniform distribution](ud.png)"
   ]
  },
  {
   "cell_type": "code",
   "execution_count": 2,
   "metadata": {},
   "outputs": [],
   "source": [
    "# your code here\n",
    "def creaArray(bottom,ceiling,count):\n",
    "    return bottom +(ceiling-bottom)*uniform.rvs(size=count)"
   ]
  },
  {
   "cell_type": "markdown",
   "metadata": {},
   "source": [
    "How are the two distributions different?"
   ]
  },
  {
   "cell_type": "code",
   "execution_count": 23,
   "metadata": {},
   "outputs": [
    {
     "name": "stdout",
     "output_type": "stream",
     "text": [
      "[39.12722042 57.25031388 39.25389258 26.27771346 24.74629453 52.18893843\n",
      " 38.10361948 36.88169789 37.08178759 25.17395923 37.87408072 19.13067537\n",
      " 52.59222386 19.09936085 23.84588832 47.49628723 36.32163581 50.4502278\n",
      " 52.35698405 30.85688967 16.81370005 45.9760609  10.71545136 21.31344423\n",
      " 56.26055503 36.21535462 28.23150168 26.7196971  31.77364996 12.42188714]\n"
     ]
    },
    {
     "data": {
      "text/plain": [
       "(array([14.,  6., 11.,  8., 11.,  9.,  9.,  3., 16., 13.]),\n",
       " array([10.04421495, 10.5366294 , 11.02904385, 11.52145831, 12.01387276,\n",
       "        12.50628721, 12.99870167, 13.49111612, 13.98353057, 14.47594503,\n",
       "        14.96835948]),\n",
       " <a list of 10 Patch objects>)"
      ]
     },
     "execution_count": 23,
     "metadata": {},
     "output_type": "execute_result"
    },
    {
     "data": {
      "image/png": "[encoded data removed]",
      "text/plain": [
       "<Figure size 432x288 with 2 Axes>"
      ]
     },
     "metadata": {
      "needs_background": "light"
     },
     "output_type": "display_data"
    }
   ],
   "source": [
    "import matplotlib.pyplot as plt\n",
    "%matplotlib inline\n",
    "# your answer below\n",
    "x=creaArray(bottom=10, ceiling=15, count=100)\n",
    "y=creaArray(bottom=10, ceiling=60, count=1000)\n",
    "\n",
    "print(y[0:30])\n",
    "\n",
    "plt.subplot(1,2,2)\n",
    "plt.hist(y)\n",
    "plt.subplot(1,2,1)\n",
    "plt.ylim([0,max(y)])\n",
    "plt.hist(x)"
   ]
  },
  {
   "cell_type": "code",
   "execution_count": 22,
   "metadata": {},
   "outputs": [
    {
     "data": {
      "text/plain": [
       "(0, 59.98452308233558)"
      ]
     },
     "execution_count": 22,
     "metadata": {},
     "output_type": "execute_result"
    },
    {
     "data": {
      "image/png": "[encoded data removed]",
      "text/plain": [
       "<Figure size 720x288 with 2 Axes>"
      ]
     },
     "metadata": {
      "needs_background": "light"
     },
     "output_type": "display_data"
    }
   ],
   "source": [
    "fig, axes = plt.subplots(1, 2, figsize=(10,4))\n",
    "axes[0].hist(y)\n",
    "plt.ylim([0,max(y)])\n",
    "axes[1].hist(x)\n",
    "plt.ylim([0,max(y)])"
   ]
  },
  {
   "cell_type": "markdown",
   "metadata": {},
   "source": [
    "## Normal Distribution\n",
    "\n",
    "1. In the same way in the Uniform Distribution challenge, write a function that generates normally distributed random numbers.\n",
    "1. Generate 1,000 normally distributed numbers with the average of 10 and standard deviation of 1\n",
    "1. Generate 1,000 normally distributed numbers with the average of 10 and standard deviation of 50\n",
    "2. Plot the distributions of the data generated.\n",
    "\n",
    "Expected output:\n",
    "\n",
    "![normal distribution](nd.png)"
   ]
  },
  {
   "cell_type": "code",
   "execution_count": 24,
   "metadata": {},
   "outputs": [],
   "source": [
    "# your code here\n",
    "import numpy as np\n",
    "def createNArray(mean, std, count):\n",
    "    return np.random.normal(mean, std, count)"
   ]
  },
  {
   "cell_type": "code",
   "execution_count": 29,
   "metadata": {},
   "outputs": [
    {
     "data": {
      "text/plain": [
       "(array([3.000e+00, 1.000e+01, 1.200e+02, 6.900e+02, 1.914e+03, 3.121e+03,\n",
       "        2.650e+03, 1.179e+03, 2.770e+02, 3.600e+01]),\n",
       " array([-223.08408411, -182.29243393, -141.50078374, -100.70913355,\n",
       "         -59.91748336,  -19.12583317,   21.66581701,   62.4574672 ,\n",
       "         103.24911739,  144.04076758,  184.83241777]),\n",
       " <a list of 10 Patch objects>)"
      ]
     },
     "execution_count": 29,
     "metadata": {},
     "output_type": "execute_result"
    },
    {
     "data": {
      "image/png": "[encoded data removed]",
      "text/plain": [
       "<Figure size 432x288 with 2 Axes>"
      ]
     },
     "metadata": {
      "needs_background": "light"
     },
     "output_type": "display_data"
    }
   ],
   "source": [
    "a = createNArray(10,1,10000)\n",
    "b = createNArray(10,50,10000)\n",
    "plt.subplot(1,2,1)\n",
    "plt.hist(a)\n",
    "plt.subplot(4,2,4)\n",
    "plt.hist(b)"
   ]
  },
  {
   "cell_type": "markdown",
   "metadata": {},
   "source": [
    "How are the two distributions different?"
   ]
  },
  {
   "cell_type": "code",
   "execution_count": null,
   "metadata": {},
   "outputs": [],
   "source": [
    "# your answer below"
   ]
  },
  {
   "cell_type": "markdown",
   "metadata": {},
   "source": [
    "## Normal Distribution of Real Data\n",
    "\n",
    "In this challenge we are going to take a look the real data. We will use vehicles.csv file for this exercise"
   ]
  },
  {
   "cell_type": "markdown",
   "metadata": {},
   "source": [
    "First import vehicles.csv.\n",
    "Then plot the histograms for the following variables:\n",
    "\n",
    "1. Fuel Barrels/Year"
   ]
  },
  {
   "cell_type": "code",
   "execution_count": 30,
   "metadata": {},
   "outputs": [
    {
     "data": {
      "text/plain": [
       "(array([8.1000e+01, 3.7400e+02, 6.7650e+03, 1.7039e+04, 8.9660e+03,\n",
       "        2.0960e+03, 5.6900e+02, 3.6000e+01, 2.1000e+01, 5.0000e+00]),\n",
       " array([ 0.06      ,  4.76271429,  9.46542857, 14.16814286, 18.87085714,\n",
       "        23.57357143, 28.27628571, 32.979     , 37.68171429, 42.38442857,\n",
       "        47.08714286]),\n",
       " <a list of 10 Patch objects>)"
      ]
     },
     "execution_count": 30,
     "metadata": {},
     "output_type": "execute_result"
    },
    {
     "data": {
      "image/png": "[encoded data removed]",
      "text/plain": [
       "<Figure size 432x288 with 1 Axes>"
      ]
     },
     "metadata": {
      "needs_background": "light"
     },
     "output_type": "display_data"
    }
   ],
   "source": [
    "# your code here\n",
    "import pandas as pd\n",
    "df = pd.read_csv('./vehicles.csv')\n",
    "\n",
    "plt.hist(df['Fuel Barrels/Year'])\n"
   ]
  },
  {
   "cell_type": "markdown",
   "metadata": {},
   "source": [
    "2. CO2 Emission Grams/Mile "
   ]
  },
  {
   "cell_type": "code",
   "execution_count": 31,
   "metadata": {},
   "outputs": [
    {
     "data": {
      "text/plain": [
       "(array([3.4000e+01, 8.3200e+02, 1.0205e+04, 1.5411e+04, 6.8250e+03,\n",
       "        2.0100e+03, 5.7300e+02, 3.6000e+01, 2.1000e+01, 5.0000e+00]),\n",
       " array([  37.        ,  160.25714286,  283.51428571,  406.77142857,\n",
       "         530.02857143,  653.28571429,  776.54285714,  899.8       ,\n",
       "        1023.05714286, 1146.31428571, 1269.57142857]),\n",
       " <a list of 10 Patch objects>)"
      ]
     },
     "execution_count": 31,
     "metadata": {},
     "output_type": "execute_result"
    },
    {
     "data": {
      "image/png": "[encoded data removed]",
      "text/plain": [
       "<Figure size 432x288 with 1 Axes>"
      ]
     },
     "metadata": {
      "needs_background": "light"
     },
     "output_type": "display_data"
    }
   ],
   "source": [
    "# your code here\n",
    "plt.hist(df['CO2 Emission Grams/Mile'])"
   ]
  },
  {
   "cell_type": "markdown",
   "metadata": {},
   "source": [
    "3. Combined MPG"
   ]
  },
  {
   "cell_type": "code",
   "execution_count": 32,
   "metadata": {},
   "outputs": [
    {
     "data": {
      "text/plain": [
       "(array([6.3800e+02, 8.4990e+03, 1.5512e+04, 7.9320e+03, 2.4160e+03,\n",
       "        6.3600e+02, 2.1000e+02, 6.5000e+01, 3.3000e+01, 1.1000e+01]),\n",
       " array([ 7. , 11.9, 16.8, 21.7, 26.6, 31.5, 36.4, 41.3, 46.2, 51.1, 56. ]),\n",
       " <a list of 10 Patch objects>)"
      ]
     },
     "execution_count": 32,
     "metadata": {},
     "output_type": "execute_result"
    },
    {
     "data": {
      "image/png": "[encoded data removed]",
      "text/plain": [
       "<Figure size 432x288 with 1 Axes>"
      ]
     },
     "metadata": {
      "needs_background": "light"
     },
     "output_type": "display_data"
    }
   ],
   "source": [
    "# your code here\n",
    "plt.hist(df[\"Combined MPG\"])"
   ]
  },
  {
   "cell_type": "markdown",
   "metadata": {},
   "source": [
    "Which one(s) of the variables are nearly normally distributed? How do you know?"
   ]
  },
  {
   "cell_type": "code",
   "execution_count": 42,
   "metadata": {},
   "outputs": [
    {
     "name": "stdout",
     "output_type": "stream",
     "text": [
      "6994.459897617527 0.0\n",
      "3608.604030545311 0.0\n",
      "3216.559790182245 0.0\n"
     ]
    }
   ],
   "source": [
    "import scipy.stats as st\n",
    "# your answer here\n",
    "lista_col=[\"Combined MPG\",'CO2 Emission Grams/Mile','Fuel Barrels/Year']\n",
    "\n",
    "for i in lista_col:\n",
    "    k2, p = normaltest(df[i])\n",
    "    print(k2,p)\n",
    "    \n",
    "#diría que ninguna de las tres se comportan como una normal, pues su p-valor es tan bajo que nos obliga a rechazar\n",
    "#la hipótesis nula, esto es, que la variable se comporta como una normal.\n",
    "#visualmente esto me resulta extraño, ya que algo de campana tienen las tres figuras"
   ]
  },
  {
   "cell_type": "markdown",
   "metadata": {},
   "source": [
    "## Exponential Distribution"
   ]
  },
  {
   "cell_type": "markdown",
   "metadata": {},
   "source": [
    "1. Using `numpy.random.exponential`, create a function that returns a list of numbers exponentially distributed with the mean of 10. \n",
    "\n",
    "1. Use the function to generate two number sequences with the size of 10 and 100.\n",
    "\n",
    "1. Plot the distributions as histograms with the nubmer of bins as 100.\n",
    "\n",
    "Your output should look like below:\n",
    "\n",
    "![exponential distribution](ed.png)"
   ]
  },
  {
   "cell_type": "code",
   "execution_count": 54,
   "metadata": {},
   "outputs": [
    {
     "data": {
      "text/plain": [
       "(array([57., 54., 58., 52., 47., 43., 36., 44., 44., 40., 22., 27., 27.,\n",
       "        32., 24., 19., 18., 29., 18., 21., 17., 17., 20., 17., 11.,  9.,\n",
       "         8.,  5.,  9., 10.,  9.,  8., 11.,  9., 10.,  7.,  7., 13.,  4.,\n",
       "         8.,  4.,  2.,  2.,  4.,  1.,  2.,  1.,  3.,  1.,  4.,  4.,  7.,\n",
       "         3.,  2.,  3.,  2.,  2.,  1.,  0.,  3.,  0.,  1.,  1.,  1.,  1.,\n",
       "         0.,  2.,  1.,  1.,  0.,  2.,  1.,  1.,  1.,  1.,  1.,  0.,  2.,\n",
       "         1.,  0.,  1.,  0.,  0.,  1.,  0.,  0.,  0.,  1.,  0.,  1.,  2.,\n",
       "         0.,  0.,  0.,  0.,  0.,  2.,  0.,  0.,  2.]),\n",
       " array([1.55219631e-04, 6.24692178e-03, 1.23386239e-02, 1.84303261e-02,\n",
       "        2.45220282e-02, 3.06137304e-02, 3.67054325e-02, 4.27971347e-02,\n",
       "        4.88888368e-02, 5.49805390e-02, 6.10722411e-02, 6.71639433e-02,\n",
       "        7.32556454e-02, 7.93473476e-02, 8.54390497e-02, 9.15307518e-02,\n",
       "        9.76224540e-02, 1.03714156e-01, 1.09805858e-01, 1.15897560e-01,\n",
       "        1.21989263e-01, 1.28080965e-01, 1.34172667e-01, 1.40264369e-01,\n",
       "        1.46356071e-01, 1.52447773e-01, 1.58539475e-01, 1.64631178e-01,\n",
       "        1.70722880e-01, 1.76814582e-01, 1.82906284e-01, 1.88997986e-01,\n",
       "        1.95089688e-01, 2.01181391e-01, 2.07273093e-01, 2.13364795e-01,\n",
       "        2.19456497e-01, 2.25548199e-01, 2.31639901e-01, 2.37731603e-01,\n",
       "        2.43823306e-01, 2.49915008e-01, 2.56006710e-01, 2.62098412e-01,\n",
       "        2.68190114e-01, 2.74281816e-01, 2.80373518e-01, 2.86465221e-01,\n",
       "        2.92556923e-01, 2.98648625e-01, 3.04740327e-01, 3.10832029e-01,\n",
       "        3.16923731e-01, 3.23015433e-01, 3.29107136e-01, 3.35198838e-01,\n",
       "        3.41290540e-01, 3.47382242e-01, 3.53473944e-01, 3.59565646e-01,\n",
       "        3.65657348e-01, 3.71749051e-01, 3.77840753e-01, 3.83932455e-01,\n",
       "        3.90024157e-01, 3.96115859e-01, 4.02207561e-01, 4.08299264e-01,\n",
       "        4.14390966e-01, 4.20482668e-01, 4.26574370e-01, 4.32666072e-01,\n",
       "        4.38757774e-01, 4.44849476e-01, 4.50941179e-01, 4.57032881e-01,\n",
       "        4.63124583e-01, 4.69216285e-01, 4.75307987e-01, 4.81399689e-01,\n",
       "        4.87491391e-01, 4.93583094e-01, 4.99674796e-01, 5.05766498e-01,\n",
       "        5.11858200e-01, 5.17949902e-01, 5.24041604e-01, 5.30133306e-01,\n",
       "        5.36225009e-01, 5.42316711e-01, 5.48408413e-01, 5.54500115e-01,\n",
       "        5.60591817e-01, 5.66683519e-01, 5.72775222e-01, 5.78866924e-01,\n",
       "        5.84958626e-01, 5.91050328e-01, 5.97142030e-01, 6.03233732e-01,\n",
       "        6.09325434e-01]),\n",
       " <a list of 100 Patch objects>)"
      ]
     },
     "execution_count": 54,
     "metadata": {},
     "output_type": "execute_result"
    },
    {
     "data": {
      "image/png": "[encoded data removed]",
      "text/plain": [
       "<Figure size 432x288 with 2 Axes>"
      ]
     },
     "metadata": {
      "needs_background": "light"
     },
     "output_type": "display_data"
    }
   ],
   "source": [
    "# your code here\n",
    "a = np.random.exponential(1/10,100)\n",
    "b = np.random.exponential(1/10,1000)\n",
    "plt.subplot(1,2,1)\n",
    "plt.hist(a, bins=100)\n",
    "plt.subplot(1,2,2)\n",
    "plt.hist(b, bins=100)"
   ]
  },
  {
   "cell_type": "markdown",
   "metadata": {},
   "source": [
    "How are the two distributions different?"
   ]
  },
  {
   "cell_type": "code",
   "execution_count": null,
   "metadata": {},
   "outputs": [],
   "source": [
    "# your answer here"
   ]
  },
  {
   "cell_type": "markdown",
   "metadata": {},
   "source": [
    "## Exponential Distribution of Real Data\n",
    "\n",
    "Suppose that the amount of time one spends in a bank is exponentially distributed with mean as 10 minutes (i.e. λ = 1/10). What is the probability that a customer will spend less than fifteen minutes in the bank? \n",
    "\n",
    "Write a code in python to solve this problem"
   ]
  },
  {
   "cell_type": "code",
   "execution_count": null,
   "metadata": {},
   "outputs": [],
   "source": [
    "# your answer here\n",
    "# Hint: This is same as saying P(x<15)"
   ]
  },
  {
   "cell_type": "markdown",
   "metadata": {},
   "source": [
    "What is the probability that the customer will spend more than 15 minutes"
   ]
  },
  {
   "cell_type": "code",
   "execution_count": null,
   "metadata": {},
   "outputs": [],
   "source": [
    "# your answer here"
   ]
  },
  {
   "cell_type": "code",
   "execution_count": null,
   "metadata": {},
   "outputs": [],
   "source": []
  }
 ],
 "metadata": {
  "kernelspec": {
   "display_name": "Python 3",
   "language": "python",
   "name": "python3"
  },
  "language_info": {
   "codemirror_mode": {
    "name": "ipython",
    "version": 3
   },
   "file_extension": ".py",
   "mimetype": "text/x-python",
   "name": "python",
   "nbconvert_exporter": "python",
   "pygments_lexer": "ipython3",
   "version": "3.7.2"
  }
 },
 "nbformat": 4,
 "nbformat_minor": 2
}
