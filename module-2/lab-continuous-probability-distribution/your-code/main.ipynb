{
 "cells": [
  {
   "cell_type": "markdown",
   "metadata": {},
   "source": [
    "# Before your start:\n",
    "\n",
    "    Read the README.md file\n",
    "    Comment as much as you can and use the resources (README.md file)\n",
    "    Happy learning!"
   ]
  },
  {
   "cell_type": "markdown",
   "metadata": {},
   "source": [
    "In this exercise, we  will generate random numbers from the continuous disributions we learned in the lesson. There are two ways to generate random numbers:\n",
    "\n",
    "1. Using the numpy library \n",
    "1. using the Scipy library \n",
    "\n",
    "Use either or both of the lbraries in this exercise."
   ]
  },
  {
   "cell_type": "markdown",
   "metadata": {},
   "source": [
    "## Uniform Distribution\n",
    "\n",
    "To generate uniform random numbers between any two given values using scipy, we can either use the following code or the code that we have\n",
    "discussed in class:"
   ]
  },
  {
   "cell_type": "code",
   "execution_count": 39,
   "metadata": {},
   "outputs": [
    {
     "name": "stdout",
     "output_type": "stream",
     "text": [
      "[2.92239447 2.01797426 2.66079456 2.68261296 2.35175169 2.32530361\n",
      " 2.87748567 2.68752167 2.0297478  2.17179419]\n"
     ]
    }
   ],
   "source": [
    "from scipy.stats import uniform, normaltest\n",
    "x = uniform.rvs(size=10)\n",
    "a = 2\n",
    "b = 3\n",
    "randoms  = a + (b-a)*x\n",
    "print(randoms)"
   ]
  },
  {
   "cell_type": "markdown",
   "metadata": {},
   "source": [
    "**Your task:**\n",
    "\n",
    "1. Based on the code above, write a function that generates uniformly distributed random numbers. There are several requirements for your function:\n",
    "    * It should accept 3 parameters: \n",
    "        * `bottom` - the lower boundary of the generated numbers\n",
    "        * `ceiling` - the upper boundary of the generated numbers\n",
    "        * `count` - how many numbers to generate\n",
    "    * It should return an array of uniformly distributed random numbers\n",
    "\n",
    "1. Call your function with 2 sets of params below:\n",
    "    * bottom=10, ceiling=15, count=100\n",
    "    * bottom=10, ceiling=60, count=1,000\n",
    "\n",
    "1. Plot the uniform distributions generated above using histograms, where x axis is the value and y axis is the count. Let the histogram's number of bins be 10.\n",
    "\n",
    "Your output should look like below:\n",
    "\n",
    "![uniform distribution](ud.png)"
   ]
  },
  {
   "cell_type": "code",
   "execution_count": 2,
   "metadata": {},
   "outputs": [],
   "source": [
    "# your code here\n",
    "def creaArray(bottom,ceiling,count):\n",
    "    return bottom +(ceiling-bottom)*uniform.rvs(size=count)"
   ]
  },
  {
   "cell_type": "markdown",
   "metadata": {},
   "source": [
    "How are the two distributions different?"
   ]
  },
  {
   "cell_type": "code",
   "execution_count": 23,
   "metadata": {},
   "outputs": [
    {
     "name": "stdout",
     "output_type": "stream",
     "text": [
      "[39.12722042 57.25031388 39.25389258 26.27771346 24.74629453 52.18893843\n",
      " 38.10361948 36.88169789 37.08178759 25.17395923 37.87408072 19.13067537\n",
      " 52.59222386 19.09936085 23.84588832 47.49628723 36.32163581 50.4502278\n",
      " 52.35698405 30.85688967 16.81370005 45.9760609  10.71545136 21.31344423\n",
      " 56.26055503 36.21535462 28.23150168 26.7196971  31.77364996 12.42188714]\n"
     ]
    },
    {
     "data": {
      "text/plain": [
       "(array([14.,  6., 11.,  8., 11.,  9.,  9.,  3., 16., 13.]),\n",
       " array([10.04421495, 10.5366294 , 11.02904385, 11.52145831, 12.01387276,\n",
       "        12.50628721, 12.99870167, 13.49111612, 13.98353057, 14.47594503,\n",
       "        14.96835948]),\n",
       " <a list of 10 Patch objects>)"
      ]
     },
     "execution_count": 23,
     "metadata": {},
     "output_type": "execute_result"
    },
    {
     "data": {
      "image/png": "[encoded data removed]",
      "text/plain": [
       "<Figure size 432x288 with 2 Axes>"
      ]
     },
     "metadata": {
      "needs_background": "light"
     },
     "output_type": "display_data"
    }
   ],
   "source": [
    "import matplotlib.pyplot as plt\n",
    "%matplotlib inline\n",
    "# your answer below\n",
    "x=creaArray(bottom=10, ceiling=15, count=100)\n",
    "y=creaArray(bottom=10, ceiling=60, count=1000)\n",
    "\n",
    "print(y[0:30])\n",
    "\n",
    "plt.subplot(1,2,2)\n",
    "plt.hist(y)\n",
    "plt.subplot(1,2,1)\n",
    "plt.ylim([0,max(y)])\n",
    "plt.hist(x)"
   ]
  },
  {
   "cell_type": "code",
   "execution_count": 22,
   "metadata": {},
   "outputs": [
    {
     "data": {
      "text/plain": [
       "(0, 59.98452308233558)"
      ]
     },
     "execution_count": 22,
     "metadata": {},
     "output_type": "execute_result"
    },
    {
     "data": {
      "image/png": "[encoded data removed]",
      "text/plain": [
       "<Figure size 720x288 with 2 Axes>"
      ]
     },
     "metadata": {
      "needs_background": "light"
     },
     "output_type": "display_data"
    }
   ],
   "source": [
    "fig, axes = plt.subplots(1, 2, figsize=(10,4))\n",
    "axes[0].hist(y)\n",
    "plt.ylim([0,max(y)])\n",
    "axes[1].hist(x)\n",
    "plt.ylim([0,max(y)])"
   ]
  },
  {
   "cell_type": "markdown",
   "metadata": {},
   "source": [
    "## Normal Distribution\n",
    "\n",
    "1. In the same way in the Uniform Distribution challenge, write a function that generates normally distributed random numbers.\n",
    "1. Generate 1,000 normally distributed numbers with the average of 10 and standard deviation of 1\n",
    "1. Generate 1,000 normally distributed numbers with the average of 10 and standard deviation of 50\n",
    "2. Plot the distributions of the data generated.\n",
    "\n",
    "Expected output:\n",
    "\n",
    "![normal distribution](nd.png)"
   ]
  },
  {
   "cell_type": "code",
   "execution_count": 24,
   "metadata": {},
   "outputs": [],
   "source": [
    "# your code here\n",
    "import numpy as np\n",
    "def createNArray(mean, std, count):\n",
    "    return np.random.normal(mean, std, count)"
   ]
  },
  {
   "cell_type": "code",
   "execution_count": 29,
   "metadata": {},
   "outputs": [
    {
     "data": {
      "text/plain": [
       "(array([3.000e+00, 1.000e+01, 1.200e+02, 6.900e+02, 1.914e+03, 3.121e+03,\n",
       "        2.650e+03, 1.179e+03, 2.770e+02, 3.600e+01]),\n",
       " array([-223.08408411, -182.29243393, -141.50078374, -100.70913355,\n",
       "         -59.91748336,  -19.12583317,   21.66581701,   62.4574672 ,\n",
       "         103.24911739,  144.04076758,  184.83241777]),\n",
       " <a list of 10 Patch objects>)"
      ]
     },
     "execution_count": 29,
     "metadata": {},
     "output_type": "execute_result"
    },
    {
     "data": {
      "image/png": "[encoded data removed]",
      "text/plain": [
       "<Figure size 432x288 with 2 Axes>"
      ]
     },
     "metadata": {
      "needs_background": "light"
     },
     "output_type": "display_data"
    }
   ],
   "source": [
    "a = createNArray(10,1,10000)\n",
    "b = createNArray(10,50,10000)\n",
    "plt.subplot(1,2,1)\n",
    "plt.hist(a)\n",
    "plt.subplot(4,2,4)\n",
    "plt.hist(b)"
   ]
  },
  {
   "cell_type": "markdown",
   "metadata": {},
   "source": [
    "How are the two distributions different?"
   ]
  },
  {
   "cell_type": "code",
   "execution_count": null,
   "metadata": {},
   "outputs": [],
   "source": [
    "# your answer below"
   ]
  },
  {
   "cell_type": "markdown",
   "metadata": {},
   "source": [
    "## Normal Distribution of Real Data\n",
    "\n",
    "In this challenge we are going to take a look the real data. We will use vehicles.csv file for this exercise"
   ]
  },
  {
   "cell_type": "markdown",
   "metadata": {},
   "source": [
    "First import vehicles.csv.\n",
    "Then plot the histograms for the following variables:\n",
    "\n",
    "1. Fuel Barrels/Year"
   ]
  },
  {
   "cell_type": "code",
   "execution_count": 30,
   "metadata": {},
   "outputs": [
    {
     "data": {
      "text/plain": [
       "(array([8.1000e+01, 3.7400e+02, 6.7650e+03, 1.7039e+04, 8.9660e+03,\n",
       "        2.0960e+03, 5.6900e+02, 3.6000e+01, 2.1000e+01, 5.0000e+00]),\n",
       " array([ 0.06      ,  4.76271429,  9.46542857, 14.16814286, 18.87085714,\n",
       "        23.57357143, 28.27628571, 32.979     , 37.68171429, 42.38442857,\n",
       "        47.08714286]),\n",
       " <a list of 10 Patch objects>)"
      ]
     },
     "execution_count": 30,
     "metadata": {},
     "output_type": "execute_result"
    },
    {
     "data": {
      "image/png": "[encoded data removed]",
      "text/plain": [
       "<Figure size 432x288 with 1 Axes>"
      ]
     },
     "metadata": {
      "needs_background": "light"
     },
     "output_type": "display_data"
    }
   ],
   "source": [
    "# your code here\n",
    "import pandas as pd\n",
    "df = pd.read_csv('./vehicles.csv')\n",
    "\n",
    "plt.hist(df['Fuel Barrels/Year'])\n"
   ]
  },
  {
   "cell_type": "markdown",
   "metadata": {},
   "source": [
    "2. CO2 Emission Grams/Mile "
   ]
  },
  {
   "cell_type": "code",
   "execution_count": 31,
   "metadata": {},
   "outputs": [
    {
     "data": {
      "text/plain": [
       "(array([3.4000e+01, 8.3200e+02, 1.0205e+04, 1.5411e+04, 6.8250e+03,\n",
       "        2.0100e+03, 5.7300e+02, 3.6000e+01, 2.1000e+01, 5.0000e+00]),\n",
       " array([  37.        ,  160.25714286,  283.51428571,  406.77142857,\n",
       "         530.02857143,  653.28571429,  776.54285714,  899.8       ,\n",
       "        1023.05714286, 1146.31428571, 1269.57142857]),\n",
       " <a list of 10 Patch objects>)"
      ]
     },
     "execution_count": 31,
     "metadata": {},
     "output_type": "execute_result"
    },
    {
     "data": {
      "image/png": "[encoded data removed]",
      "text/plain": [
       "<Figure size 432x288 with 1 Axes>"
      ]
     },
     "metadata": {
      "needs_background": "light"
     },
     "output_type": "display_data"
    }
   ],
   "source": [
    "# your code here\n",
    "plt.hist(df['CO2 Emission Grams/Mile'])"
   ]
  },
  {
   "cell_type": "markdown",
   "metadata": {},
   "source": [
    "3. Combined MPG"
   ]
  },
  {
   "cell_type": "code",
   "execution_count": 32,
   "metadata": {},
   "outputs": [
    {
     "data": {
      "text/plain": [
       "(array([6.3800e+02, 8.4990e+03, 1.5512e+04, 7.9320e+03, 2.4160e+03,\n",
       "        6.3600e+02, 2.1000e+02, 6.5000e+01, 3.3000e+01, 1.1000e+01]),\n",
       " array([ 7. , 11.9, 16.8, 21.7, 26.6, 31.5, 36.4, 41.3, 46.2, 51.1, 56. ]),\n",
       " <a list of 10 Patch objects>)"
      ]
     },
     "execution_count": 32,
     "metadata": {},
     "output_type": "execute_result"
    },
    {
     "data": {
      "image/png": "[encoded data removed]",
      "text/plain": [
       "<Figure size 432x288 with 1 Axes>"
      ]
     },
     "metadata": {
      "needs_background": "light"
     },
     "output_type": "display_data"
    }
   ],
   "source": [
    "# your code here\n",
    "plt.hist(df[\"Combined MPG\"])"
   ]
  },
  {
   "cell_type": "markdown",
   "metadata": {},
   "source": [
    "Which one(s) of the variables are nearly normally distributed? How do you know?"
   ]
  },
  {
   "cell_type": "code",
   "execution_count": 42,
   "metadata": {},
   "outputs": [
    {
     "name": "stdout",
     "output_type": "stream",
     "text": [
      "6994.459897617527 0.0\n",
      "3608.604030545311 0.0\n",
      "3216.559790182245 0.0\n"
     ]
    }
   ],
   "source": [
    "import scipy.stats as st\n",
    "# your answer here\n",
    "lista_col=[\"Combined MPG\",'CO2 Emission Grams/Mile','Fuel Barrels/Year']\n",
    "\n",
    "for i in lista_col:\n",
    "    k2, p = normaltest(df[i])\n",
    "    print(k2,p)\n",
    "    \n",
    "#diría que ninguna de las tres se comportan como una normal, pues su p-valor es tan bajo que nos obliga a rechazar\n",
    "#la hipótesis nula, esto es, que la variable se comporta como una normal.\n",
    "#visualmente esto me resulta extraño, ya que algo de campana tienen las tres figuras"
   ]
  },
  {
   "cell_type": "markdown",
   "metadata": {},
   "source": [
    "## Exponential Distribution"
   ]
  },
  {
   "cell_type": "markdown",
   "metadata": {},
   "source": [
    "1. Using `numpy.random.exponential`, create a function that returns a list of numbers exponentially distributed with the mean of 10. \n",
    "\n",
    "1. Use the function to generate two number sequences with the size of 10 and 100.\n",
    "\n",
    "1. Plot the distributions as histograms with the nubmer of bins as 100.\n",
    "\n",
    "Your output should look like below:\n",
    "\n",
    "![exponential distribution](ed.png)"
   ]
  },
  {
   "cell_type": "code",
   "execution_count": 55,
   "metadata": {},
   "outputs": [
    {
     "data": {
      "text/plain": [
       "(array([66., 63., 64., 42., 53., 48., 48., 42., 45., 37., 38., 29., 27.,\n",
       "        27., 26., 22., 23., 30., 21., 11., 17., 29., 13., 12., 16.,  8.,\n",
       "         6.,  3.,  5.,  6.,  6., 10.,  6.,  4.,  7.,  7., 10.,  7.,  2.,\n",
       "         4.,  7.,  4.,  8.,  4.,  1.,  0.,  1.,  0.,  1.,  3.,  2.,  1.,\n",
       "         3.,  2.,  1.,  3.,  2.,  2.,  1.,  1.,  1.,  1.,  1.,  1.,  0.,\n",
       "         2.,  0.,  0.,  0.,  1.,  0.,  1.,  1.,  1.,  0.,  1.,  0.,  0.,\n",
       "         0.,  0.,  0.,  0.,  0.,  1.,  0.,  0.,  0.,  0.,  0.,  0.,  0.,\n",
       "         0.,  0.,  0.,  0.,  0.,  0.,  0.,  0.,  1.]),\n",
       " array([9.59443076e-05, 7.31297782e-03, 1.45300113e-02, 2.17470449e-02,\n",
       "        2.89640784e-02, 3.61811119e-02, 4.33981454e-02, 5.06151789e-02,\n",
       "        5.78322124e-02, 6.50492460e-02, 7.22662795e-02, 7.94833130e-02,\n",
       "        8.67003465e-02, 9.39173800e-02, 1.01134414e-01, 1.08351447e-01,\n",
       "        1.15568481e-01, 1.22785514e-01, 1.30002548e-01, 1.37219581e-01,\n",
       "        1.44436615e-01, 1.51653648e-01, 1.58870682e-01, 1.66087715e-01,\n",
       "        1.73304749e-01, 1.80521782e-01, 1.87738816e-01, 1.94955849e-01,\n",
       "        2.02172883e-01, 2.09389916e-01, 2.16606950e-01, 2.23823983e-01,\n",
       "        2.31041017e-01, 2.38258050e-01, 2.45475084e-01, 2.52692117e-01,\n",
       "        2.59909151e-01, 2.67126184e-01, 2.74343218e-01, 2.81560251e-01,\n",
       "        2.88777285e-01, 2.95994318e-01, 3.03211352e-01, 3.10428386e-01,\n",
       "        3.17645419e-01, 3.24862453e-01, 3.32079486e-01, 3.39296520e-01,\n",
       "        3.46513553e-01, 3.53730587e-01, 3.60947620e-01, 3.68164654e-01,\n",
       "        3.75381687e-01, 3.82598721e-01, 3.89815754e-01, 3.97032788e-01,\n",
       "        4.04249821e-01, 4.11466855e-01, 4.18683888e-01, 4.25900922e-01,\n",
       "        4.33117955e-01, 4.40334989e-01, 4.47552022e-01, 4.54769056e-01,\n",
       "        4.61986089e-01, 4.69203123e-01, 4.76420156e-01, 4.83637190e-01,\n",
       "        4.90854223e-01, 4.98071257e-01, 5.05288290e-01, 5.12505324e-01,\n",
       "        5.19722357e-01, 5.26939391e-01, 5.34156425e-01, 5.41373458e-01,\n",
       "        5.48590492e-01, 5.55807525e-01, 5.63024559e-01, 5.70241592e-01,\n",
       "        5.77458626e-01, 5.84675659e-01, 5.91892693e-01, 5.99109726e-01,\n",
       "        6.06326760e-01, 6.13543793e-01, 6.20760827e-01, 6.27977860e-01,\n",
       "        6.35194894e-01, 6.42411927e-01, 6.49628961e-01, 6.56845994e-01,\n",
       "        6.64063028e-01, 6.71280061e-01, 6.78497095e-01, 6.85714128e-01,\n",
       "        6.92931162e-01, 7.00148195e-01, 7.07365229e-01, 7.14582262e-01,\n",
       "        7.21799296e-01]),\n",
       " <a list of 100 Patch objects>)"
      ]
     },
     "execution_count": 55,
     "metadata": {},
     "output_type": "execute_result"
    },
    {
     "data": {
      "image/png": "[encoded data removed]",
      "text/plain": [
       "<Figure size 432x288 with 2 Axes>"
      ]
     },
     "metadata": {
      "needs_background": "light"
     },
     "output_type": "display_data"
    }
   ],
   "source": [
    "# your code here\n",
    "a = np.random.exponential(1/10,100)\n",
    "b = np.random.exponential(1/10,1000)\n",
    "plt.subplot(1,2,1)\n",
    "plt.hist(a, bins=10)\n",
    "plt.subplot(1,2,2)\n",
    "plt.hist(b, bins=100)"
   ]
  },
  {
   "cell_type": "markdown",
   "metadata": {},
   "source": [
    "How are the two distributions different?"
   ]
  },
  {
   "cell_type": "code",
   "execution_count": null,
   "metadata": {},
   "outputs": [],
   "source": [
    "# your answer here\n",
    "#No sé qué diablos decir aqui. No entiendo esta distribución, sólo entiendo que indica el tiempo que ocurre entre sucesos\n",
    "#de procesos de distribución Poisson. Supongo que tiene más sentido pintar el plot de la izquierda con menos bins"
   ]
  },
  {
   "cell_type": "markdown",
   "metadata": {},
   "source": [
    "## Exponential Distribution of Real Data\n",
    "\n",
    "Suppose that the amount of time one spends in a bank is exponentially distributed with mean as 10 minutes (i.e. λ = 1/10). What is the probability that a customer will spend less than fifteen minutes in the bank? \n",
    "\n",
    "Write a code in python to solve this problem"
   ]
  },
  {
   "cell_type": "code",
   "execution_count": 60,
   "metadata": {},
   "outputs": [
    {
     "data": {
      "text/plain": [
       "0.7768698398515702"
      ]
     },
     "execution_count": 60,
     "metadata": {},
     "output_type": "execute_result"
    }
   ],
   "source": [
    "# your answer here\n",
    "# Hint: This is same as saying P(x<15)\n",
    "def CDFExponential(lamb,x):\n",
    "    if x<=0:\n",
    "        cdf=0\n",
    "    else:\n",
    "        cdf=1-np.exp(-lamb*x)\n",
    "    return cdf\n",
    "CDFExponential(1/10,15)"
   ]
  },
  {
   "cell_type": "markdown",
   "metadata": {},
   "source": [
    "What is the probability that the customer will spend more than 15 minutes"
   ]
  },
  {
   "cell_type": "code",
   "execution_count": 61,
   "metadata": {},
   "outputs": [
    {
     "data": {
      "text/plain": [
       "0.2231301601484298"
      ]
     },
     "execution_count": 61,
     "metadata": {},
     "output_type": "execute_result"
    }
   ],
   "source": [
    "# your answer here\n",
    "1-CDFExponential(1/10,15)"
   ]
  },
  {
   "cell_type": "code",
   "execution_count": null,
   "metadata": {},
   "outputs": [],
   "source": []
  }
 ],
 "metadata": {
  "kernelspec": {
   "display_name": "Python 3",
   "language": "python",
   "name": "python3"
  },
  "language_info": {
   "codemirror_mode": {
    "name": "ipython",
    "version": 3
   },
   "file_extension": ".py",
   "mimetype": "text/x-python",
   "name": "python",
   "nbconvert_exporter": "python",
   "pygments_lexer": "ipython3",
   "version": "3.7.2"
  }
 },
 "nbformat": 4,
 "nbformat_minor": 2
}
