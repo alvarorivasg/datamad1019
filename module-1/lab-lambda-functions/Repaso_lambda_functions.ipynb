{
 "cells": [
  {
   "cell_type": "markdown",
   "metadata": {},
   "source": [
    "# Lambda Functions"
   ]
  },
  {
   "cell_type": "code",
   "execution_count": 187,
   "metadata": {},
   "outputs": [
    {
     "name": "stdout",
     "output_type": "stream",
     "text": [
      "25\n",
      "25\n"
     ]
    }
   ],
   "source": [
    "square = lambda x: x * x\n",
    "\n",
    "# A function that returns the same result as the lambda function\n",
    "def square_function(x):\n",
    "    return x * x\n",
    "    \n",
    "print (square(5))\n",
    "print (square_function(5))"
   ]
  },
  {
   "cell_type": "markdown",
   "metadata": {},
   "source": [
    "# If Statements in Lambda Functions\n",
    "\n"
   ]
  },
  {
   "cell_type": "code",
   "execution_count": 188,
   "metadata": {},
   "outputs": [
    {
     "name": "stdout",
     "output_type": "stream",
     "text": [
      "0.5\n",
      "0\n"
     ]
    }
   ],
   "source": [
    "div = lambda num, denom: num / denom if (denom != 0) else 0\n",
    "\n",
    "print (div(5, 10))\n",
    "\n",
    "print (div(10, 0))"
   ]
  },
  {
   "cell_type": "markdown",
   "metadata": {},
   "source": [
    "# Lambdas in the Return Statement of a Function\n",
    "\n"
   ]
  },
  {
   "cell_type": "code",
   "execution_count": 189,
   "metadata": {},
   "outputs": [],
   "source": [
    "def splitter(string):\n",
    "    return lambda x: x.split(string)"
   ]
  },
  {
   "cell_type": "code",
   "execution_count": 190,
   "metadata": {},
   "outputs": [
    {
     "data": {
      "text/plain": [
       "<function __main__.splitter.<locals>.<lambda>(x)>"
      ]
     },
     "execution_count": 190,
     "metadata": {},
     "output_type": "execute_result"
    }
   ],
   "source": [
    "splitter('hola') # Our function returns another function(lambda)"
   ]
  },
  {
   "cell_type": "code",
   "execution_count": 200,
   "metadata": {},
   "outputs": [],
   "source": [
    "word = splitter(' ') # We decide "
   ]
  },
  {
   "cell_type": "code",
   "execution_count": 192,
   "metadata": {},
   "outputs": [
    {
     "data": {
      "text/plain": [
       "<function __main__.splitter.<locals>.<lambda>(x)>"
      ]
     },
     "execution_count": 192,
     "metadata": {},
     "output_type": "execute_result"
    }
   ],
   "source": [
    "word # As you can see our variable word is just a lambda"
   ]
  },
  {
   "cell_type": "code",
   "execution_count": 199,
   "metadata": {},
   "outputs": [
    {
     "data": {
      "text/plain": [
       "['estamos',\n",
       " 'en',\n",
       " 'ironhack;',\n",
       " 'cómo',\n",
       " 'estáis;',\n",
       " 'nos',\n",
       " 'encantan;',\n",
       " 'las',\n",
       " 'lambdas']"
      ]
     },
     "execution_count": 199,
     "metadata": {},
     "output_type": "execute_result"
    }
   ],
   "source": [
    "word('estamos en ironhack; cómo estáis; nos encantan; las lambdas')"
   ]
  },
  {
   "cell_type": "code",
   "execution_count": 195,
   "metadata": {},
   "outputs": [
    {
     "data": {
      "text/plain": [
       "[['estamos'],\n",
       " ['en'],\n",
       " ['ironhack;'],\n",
       " ['cómo'],\n",
       " ['estáis;'],\n",
       " ['nos'],\n",
       " ['encantan;'],\n",
       " ['las'],\n",
       " ['lambdas']]"
      ]
     },
     "execution_count": 195,
     "metadata": {},
     "output_type": "execute_result"
    }
   ],
   "source": [
    "#each element to type list\n",
    "[[part] for part in word('estamos en ironhack; cómo estáis; nos encantan; las lambdas')]"
   ]
  },
  {
   "cell_type": "code",
   "execution_count": 196,
   "metadata": {},
   "outputs": [
    {
     "data": {
      "text/plain": [
       "[['e', 's', 't', 'a', 'm', 'o', 's'],\n",
       " ['e', 'n'],\n",
       " ['i', 'r', 'o', 'n', 'h', 'a', 'c', 'k', ';'],\n",
       " ['c', 'o', 'm', 'o'],\n",
       " ['e', 's', 't', 'a', 'i', 's', ';'],\n",
       " ['n', 'o', 's'],\n",
       " ['e', 'n', 'c', 'a', 'n', 't', 'a', 'n', ';'],\n",
       " ['l', 'a', 's'],\n",
       " ['l', 'a', 'm', 'b', 'd', 'a', 's']]"
      ]
     },
     "execution_count": 196,
     "metadata": {},
     "output_type": "execute_result"
    }
   ],
   "source": [
    "#list of characters\n",
    "[list(part) for part in word('estamos en ironhack; como estais; nos encantan; las lambdas')]"
   ]
  },
  {
   "cell_type": "markdown",
   "metadata": {},
   "source": [
    "# Lambdas in List Comprehensions\n",
    "\n"
   ]
  },
  {
   "cell_type": "code",
   "execution_count": 111,
   "metadata": {},
   "outputs": [
    {
     "name": "stdout",
     "output_type": "stream",
     "text": [
      "[3, 6, 9, 12, 15, 18, 21, 24, 27]\n"
     ]
    }
   ],
   "source": [
    "square = lambda x, y: x * y #our lambda function need two paramaters(x,y)\n",
    "squared = [square(x, 3) for x in range(1, 10)]\n",
    "\n",
    "print(squared)"
   ]
  },
  {
   "cell_type": "code",
   "execution_count": 118,
   "metadata": {},
   "outputs": [
    {
     "name": "stdout",
     "output_type": "stream",
     "text": [
      "CPU times: user 4 µs, sys: 1 µs, total: 5 µs\n",
      "Wall time: 6.91 µs\n"
     ]
    },
    {
     "data": {
      "text/plain": [
       "['Calculus', 'Philosophy', 'Art History', 'Computer Science']"
      ]
     },
     "execution_count": 118,
     "metadata": {},
     "output_type": "execute_result"
    }
   ],
   "source": [
    "%time\n",
    "lambda_string = lambda x: x.replace('-', ' ')\n",
    "[lambda_string(x) for x in school_dash]"
   ]
  },
  {
   "cell_type": "code",
   "execution_count": 117,
   "metadata": {},
   "outputs": [
    {
     "name": "stdout",
     "output_type": "stream",
     "text": [
      "CPU times: user 4 µs, sys: 8 µs, total: 12 µs\n",
      "Wall time: 16 µs\n",
      "['Calculus', 'Philosophy', 'Art History', 'Computer Science']\n"
     ]
    }
   ],
   "source": [
    "%time\n",
    "school_dash = ['Calculus', 'Philosophy', 'Art-History', 'Computer-Science']\n",
    "\n",
    "school_space = [(lambda x: x.replace('-', ' '))(x) for x in school_dash]\n",
    "\n",
    "print(school_space)"
   ]
  },
  {
   "cell_type": "markdown",
   "metadata": {},
   "source": [
    "# Lambdas as Arguments in Functions\n",
    "\n",
    "Lambda functions really shine as arguments in functions. One example is sorting. Typically, we only sort using the default options in Python. "
   ]
  },
  {
   "cell_type": "code",
   "execution_count": 172,
   "metadata": {},
   "outputs": [
    {
     "data": {
      "text/plain": [
       "[['Computer-Science'], ['Calculus'], ['Philosophy'], ['Art-History']]"
      ]
     },
     "execution_count": 172,
     "metadata": {},
     "output_type": "execute_result"
    }
   ],
   "source": [
    "#Order by the last character of each word\n",
    "\n",
    "school_dash_lists = [['Calculus'], ['Philosophy'], ['Art-History'], ['Computer-Science']]\n",
    "\n",
    "sorted(school_dash_lists, key=lambda x: x[0][-1])"
   ]
  },
  {
   "cell_type": "code",
   "execution_count": 173,
   "metadata": {},
   "outputs": [
    {
     "data": {
      "text/plain": [
       "['Computer Science', 'Calculus', 'Philosophy', 'Art History']"
      ]
     },
     "execution_count": 173,
     "metadata": {},
     "output_type": "execute_result"
    }
   ],
   "source": [
    "#Order by the last character of each word\n",
    "school_dash = ['Calculus', 'Philosophy', 'Art-Historf', 'Computer-Science']\n",
    "last = lambda x: x[-1]\n",
    "\n",
    "sorted(school_space, key=last)"
   ]
  },
  {
   "cell_type": "code",
   "execution_count": 174,
   "metadata": {},
   "outputs": [
    {
     "name": "stdout",
     "output_type": "stream",
     "text": [
      "['allan', 'amy', 'david', 'john', 'marie', 'mary']\n"
     ]
    }
   ],
   "source": [
    "dictionary = {'john':2, 'mary':9, 'david':8, 'marie':7, 'amy':5, 'allan':8} \n",
    "print(sorted(dictionary))"
   ]
  },
  {
   "cell_type": "code",
   "execution_count": 176,
   "metadata": {},
   "outputs": [
    {
     "data": {
      "text/plain": [
       "[('mary', 9),\n",
       " ('allan', 8),\n",
       " ('david', 8),\n",
       " ('marie', 7),\n",
       " ('amy', 5),\n",
       " ('john', 2)]"
      ]
     },
     "execution_count": 176,
     "metadata": {},
     "output_type": "execute_result"
    }
   ],
   "source": [
    "#Order descending the value -x[1]\n",
    "#x[0] = value\n",
    "#x[1] = key\n",
    "\n",
    "sorted(dictionary.items(), key=lambda x:(-x[1], x[0]))"
   ]
  },
  {
   "cell_type": "code",
   "execution_count": 128,
   "metadata": {},
   "outputs": [
    {
     "data": {
      "text/plain": [
       "[('john', 2),\n",
       " ('amy', 5),\n",
       " ('marie', 7),\n",
       " ('allan', 8),\n",
       " ('david', 8),\n",
       " ('mary', 9)]"
      ]
     },
     "execution_count": 128,
     "metadata": {},
     "output_type": "execute_result"
    }
   ],
   "source": [
    "sorted(dictionary.items(), key=lambda x:(x[1], x[0]))"
   ]
  },
  {
   "cell_type": "code",
   "execution_count": 154,
   "metadata": {},
   "outputs": [],
   "source": [
    "name = ['noelia', 'fran', 'felipe']\n",
    "age = [26, 25, 29]\n",
    "\n",
    "tas = zip(name, age)\n",
    "result = list(tas)"
   ]
  },
  {
   "cell_type": "code",
   "execution_count": 185,
   "metadata": {},
   "outputs": [
    {
     "name": "stdout",
     "output_type": "stream",
     "text": [
      "<zip object at 0x10f14c688>\n",
      "[('noelia', 26), ('fran', 25), ('felipe', 29)]\n"
     ]
    }
   ],
   "source": [
    "print(tas) # tas is a zip object\n",
    "print(result) "
   ]
  },
  {
   "cell_type": "code",
   "execution_count": 186,
   "metadata": {},
   "outputs": [],
   "source": [
    "names, _ =  zip(*result) #We can use _ if we can avoid the second variable\n",
    "names, ages =  zip(*result)"
   ]
  },
  {
   "cell_type": "code",
   "execution_count": 156,
   "metadata": {},
   "outputs": [
    {
     "data": {
      "text/plain": [
       "('noelia', 'fran', 'felipe')"
      ]
     },
     "execution_count": 156,
     "metadata": {},
     "output_type": "execute_result"
    }
   ],
   "source": [
    "names"
   ]
  },
  {
   "cell_type": "code",
   "execution_count": 157,
   "metadata": {},
   "outputs": [
    {
     "data": {
      "text/plain": [
       "(26, 30, 29)"
      ]
     },
     "execution_count": 157,
     "metadata": {},
     "output_type": "execute_result"
    }
   ],
   "source": [
    "ages"
   ]
  },
  {
   "cell_type": "markdown",
   "metadata": {},
   "source": [
    "### Additional informacion re.match"
   ]
  },
  {
   "cell_type": "code",
   "execution_count": 180,
   "metadata": {},
   "outputs": [],
   "source": [
    "import re"
   ]
  },
  {
   "cell_type": "code",
   "execution_count": 181,
   "metadata": {},
   "outputs": [],
   "source": [
    "m = re.search('(?<=abc)def', 'abcdef')"
   ]
  },
  {
   "cell_type": "code",
   "execution_count": 182,
   "metadata": {},
   "outputs": [
    {
     "data": {
      "text/plain": [
       "<re.Match object; span=(3, 6), match='def'>"
      ]
     },
     "execution_count": 182,
     "metadata": {},
     "output_type": "execute_result"
    }
   ],
   "source": [
    "m # This is just a match object"
   ]
  },
  {
   "cell_type": "code",
   "execution_count": 183,
   "metadata": {},
   "outputs": [
    {
     "data": {
      "text/plain": [
       "True"
      ]
     },
     "execution_count": 183,
     "metadata": {},
     "output_type": "execute_result"
    }
   ],
   "source": [
    "bool(m) # True or False "
   ]
  },
  {
   "cell_type": "code",
   "execution_count": 184,
   "metadata": {},
   "outputs": [
    {
     "data": {
      "text/plain": [
       "'def'"
      ]
     },
     "execution_count": 184,
     "metadata": {},
     "output_type": "execute_result"
    }
   ],
   "source": [
    "m.group() # The match objetc"
   ]
  }
 ],
 "metadata": {
  "kernelspec": {
   "display_name": "Python 3",
   "language": "python",
   "name": "python3"
  },
  "language_info": {
   "codemirror_mode": {
    "name": "ipython",
    "version": 3
   },
   "file_extension": ".py",
   "mimetype": "text/x-python",
   "name": "python",
   "nbconvert_exporter": "python",
   "pygments_lexer": "ipython3",
   "version": "3.7.2"
  }
 },
 "nbformat": 4,
 "nbformat_minor": 2
}
