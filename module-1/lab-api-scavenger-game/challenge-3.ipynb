{
 "cells": [
  {
   "cell_type": "code",
   "execution_count": 3,
   "metadata": {},
   "outputs": [],
   "source": [
    "import os\n",
    "import requests\n",
    "from dotenv import load_dotenv\n",
    "import re\n",
    "load_dotenv()\n",
    "\n",
    "# https://developer.github.com/v3/\n",
    "def githubRequestAuthorized(resource):\n",
    "    authToken = os.getenv(\"token\")\n",
    "    if not authToken:\n",
    "        raise ValueError(\"NECESITAS UN TOKEN\")\n",
    "    else:\n",
    "        print(\"We have a github token: \", authToken[0:4])\n",
    "    headers = {\n",
    "        \"Authorization\": \"token {}\".format(authToken)\n",
    "    }\n",
    "    url = \"https://api.github.com{}\".format(resource)\n",
    "    print(\"Requesting authorized {}\".format(url))\n",
    "    res = requests.get(url, headers=headers)\n",
    "    return res"
   ]
  },
  {
   "cell_type": "code",
   "execution_count": 9,
   "metadata": {},
   "outputs": [],
   "source": [
    "lista=[f\"{i:04}\" for i in range(1,25)]"
   ]
  },
  {
   "cell_type": "code",
   "execution_count": 5,
   "metadata": {},
   "outputs": [
    {
     "name": "stdout",
     "output_type": "stream",
     "text": [
      "We have a github token:  f370\n",
      "Requesting authorized https://api.github.com/repos/ironhack-datalabs/scavenger/contents/\n",
      "['15024', '15534', '17020', '30351', '40303', '44639', '45525', '47222', '47830', '49418', '50896', '55417', '55685', '60224', '64880', '66032', '68848', '70751', '70985', '88596', '89046', '89338', '91701', '97881', '98750']\n"
     ]
    }
   ],
   "source": [
    "data=githubRequestAuthorized(\"/repos/ironhack-datalabs/scavenger/contents/\").json()\n",
    "liste=[]\n",
    "for e in data:\n",
    "    if e['name']!='.gitignore':\n",
    "        liste.append(e['name'])\n",
    "print(liste)"
   ]
  },
  {
   "cell_type": "code",
   "execution_count": null,
   "metadata": {},
   "outputs": [],
   "source": []
  },
  {
   "cell_type": "code",
   "execution_count": 6,
   "metadata": {},
   "outputs": [],
   "source": [
    "import base64\n",
    "def newgithubRequestAuthorized(resource):\n",
    "    authToken = os.getenv(\"token\")\n",
    "    headers = {\n",
    "        \"Authorization\": \"token {}\".format(authToken)\n",
    "    }\n",
    "    url = \"https://api.github.com{}\".format(resource)\n",
    "    res = requests.get(url, headers=headers)\n",
    "    return res"
   ]
  },
  {
   "cell_type": "code",
   "execution_count": 10,
   "metadata": {},
   "outputs": [],
   "source": [
    "diccio={}\n",
    "for i in liste:\n",
    "    for e in lista:\n",
    "        data=newgithubRequestAuthorized(\"/repos/ironhack-datalabs/scavenger/contents/{}/.{}.scavengerhunt\".format(i,e)).json()\n",
    "        try:\n",
    "            seda=data['content']\n",
    "            lol=base64.b64decode(seda)\n",
    "            diccio[data['name']]=lol\n",
    "        except:\n",
    "            pass"
   ]
  },
  {
   "cell_type": "code",
   "execution_count": 11,
   "metadata": {},
   "outputs": [
    {
     "data": {
      "text/plain": [
       "{'.0006.scavengerhunt': b'of\\n',\n",
       " '.0008.scavengerhunt': b'spent\\n',\n",
       " '.0012.scavengerhunt': b'20\\n',\n",
       " '.0007.scavengerhunt': b'time\\n',\n",
       " '.0021.scavengerhunt': b'need\\n',\n",
       " '.0022.scavengerhunt': b'to\\n',\n",
       " '.0005.scavengerhunt': b'percent\\n',\n",
       " '.0018.scavengerhunt': b'complaining\\n',\n",
       " '.0016.scavengerhunt': b'is\\n',\n",
       " '.0024.scavengerhunt': b'data.\\n',\n",
       " '.0010.scavengerhunt': b'preparing\\n',\n",
       " '.0014.scavengerhunt': b'of\\n',\n",
       " '.0011.scavengerhunt': b'data,\\n',\n",
       " '.0023.scavengerhunt': b'prepare\\n',\n",
       " '.0020.scavengerhunt': b'the\\n',\n",
       " '.0003.scavengerhunt': b'science,\\n',\n",
       " '.0004.scavengerhunt': b'80\\n',\n",
       " '.0019.scavengerhunt': b'about\\n',\n",
       " '.0017.scavengerhunt': b'spent\\n',\n",
       " '.0002.scavengerhunt': b'data\\n',\n",
       " '.0013.scavengerhunt': b'percent\\n',\n",
       " '.0015.scavengerhunt': b'time\\n',\n",
       " '.0009.scavengerhunt': b'is\\n',\n",
       " '.0001.scavengerhunt': b'In\\n'}"
      ]
     },
     "execution_count": 11,
     "metadata": {},
     "output_type": "execute_result"
    }
   ],
   "source": [
    "diccio"
   ]
  },
  {
   "cell_type": "code",
   "execution_count": 14,
   "metadata": {},
   "outputs": [
    {
     "data": {
      "text/plain": [
       "[('.0001.scavengerhunt', b'In\\n'),\n",
       " ('.0002.scavengerhunt', b'data\\n'),\n",
       " ('.0003.scavengerhunt', b'science,\\n'),\n",
       " ('.0004.scavengerhunt', b'80\\n'),\n",
       " ('.0005.scavengerhunt', b'percent\\n'),\n",
       " ('.0006.scavengerhunt', b'of\\n'),\n",
       " ('.0007.scavengerhunt', b'time\\n'),\n",
       " ('.0008.scavengerhunt', b'spent\\n'),\n",
       " ('.0009.scavengerhunt', b'is\\n'),\n",
       " ('.0010.scavengerhunt', b'preparing\\n'),\n",
       " ('.0011.scavengerhunt', b'data,\\n'),\n",
       " ('.0012.scavengerhunt', b'20\\n'),\n",
       " ('.0013.scavengerhunt', b'percent\\n'),\n",
       " ('.0014.scavengerhunt', b'of\\n'),\n",
       " ('.0015.scavengerhunt', b'time\\n'),\n",
       " ('.0016.scavengerhunt', b'is\\n'),\n",
       " ('.0017.scavengerhunt', b'spent\\n'),\n",
       " ('.0018.scavengerhunt', b'complaining\\n'),\n",
       " ('.0019.scavengerhunt', b'about\\n'),\n",
       " ('.0020.scavengerhunt', b'the\\n'),\n",
       " ('.0021.scavengerhunt', b'need\\n'),\n",
       " ('.0022.scavengerhunt', b'to\\n'),\n",
       " ('.0023.scavengerhunt', b'prepare\\n'),\n",
       " ('.0024.scavengerhunt', b'data.\\n')]"
      ]
     },
     "execution_count": 14,
     "metadata": {},
     "output_type": "execute_result"
    }
   ],
   "source": [
    "jej=sorted(diccio.items())\n",
    "jej"
   ]
  },
  {
   "cell_type": "code",
   "execution_count": 40,
   "metadata": {},
   "outputs": [
    {
     "data": {
      "text/plain": [
       "'In data science, 80 percent of time spent is preparing data, 20 percent of time is spent complaining about the need to prepare data.'"
      ]
     },
     "execution_count": 40,
     "metadata": {},
     "output_type": "execute_result"
    }
   ],
   "source": [
    "listerra=[]\n",
    "for i in jej:\n",
    "    listerra.append(i[1])\n",
    "liston=[]\n",
    "for e in listerra:\n",
    "    string=str(e)\n",
    "    strin=string[1:]\n",
    "    liston.append(strin)\n",
    "liston\n",
    "listilla=[]\n",
    "for e in liston:\n",
    "    o=re.sub(\"'\",\"\",e)\n",
    "    j=re.sub('\\n',\"\",o)\n",
    "    listilla.append(j)\n",
    "listilla\n",
    "listadef=[]\n",
    "for e in listilla:\n",
    "    o=e[:-2]\n",
    "    listadef.append(o)\n",
    "texto=' '.join(listadef)\n",
    "texto"
   ]
  }
 ],
 "metadata": {
  "kernelspec": {
   "display_name": "Python 3",
   "language": "python",
   "name": "python3"
  },
  "language_info": {
   "codemirror_mode": {
    "name": "ipython",
    "version": 3
   },
   "file_extension": ".py",
   "mimetype": "text/x-python",
   "name": "python",
   "nbconvert_exporter": "python",
   "pygments_lexer": "ipython3",
   "version": "3.7.2"
  }
 },
 "nbformat": 4,
 "nbformat_minor": 2
}
